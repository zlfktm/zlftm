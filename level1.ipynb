{
 "cells": [
  {
   "cell_type": "markdown",
   "metadata": {
    "id": "WXEwMsfUct7U"
   },
   "source": [
    "안녕하세요.<br><br>\n",
    "수강생 여러분~! \n",
    "\n",
    "\"Challenge : Chapter05 ~ 08 문제풀기\"는 잘 풀어보셨나요?\n",
    "\n",
    "\n",
    "너~~무 어려웠어요! 하는 분들을 위해 만들어봤습니다!\n",
    "\n",
    "문제 도장깨기 !!!!!\n",
    "\n",
    "차근차근 풀어나가면 파이썬 정복 가능입니다!\n",
    "\n",
    "화이팅 !\n",
    "\n",
    "\n",
    "Chapter05~08의 수업 내용을 바탕으로 아래 문제를 풀어주시면 됩니다.\n",
    "\n",
    "<br>\n",
    "\n",
    "[**답변 입력 방법**]\n",
    "\n",
    "문제 아래에 있는 코드 입력창에 정답코드를 작성하신 후  __▷ 버튼을 클릭해 코드를 실행__ 해보세요<br>\n",
    "<br>"
   ]
  },
  {
   "cell_type": "markdown",
   "metadata": {
    "id": "qoyC9wF-3hvs"
   },
   "source": [
    "-----"
   ]
  },
  {
   "cell_type": "markdown",
   "metadata": {},
   "source": [
    "<br>\n",
    "\n",
    "__[문제1]__\n",
    "\n",
    "\n",
    "a와 b라는 변수를 각각 10과 20으로 초기화하고, 두 변수를 더한 값을 출력해보세요.\n",
    "\n",
    "\n",
    "<br>"
   ]
  },
  {
   "cell_type": "code",
   "execution_count": 1,
   "metadata": {},
   "outputs": [
    {
     "name": "stdout",
     "output_type": "stream",
     "text": [
      "두변수의 합 : 30\n"
     ]
    }
   ],
   "source": [
    "a= 10\n",
    "b= 20\n",
    "\n",
    "result = a + b\n",
    "print(\"두변수의 합 :\",result)"
   ]
  },
  {
   "cell_type": "markdown",
   "metadata": {},
   "source": [
    "<br>\n",
    "\n",
    "__[문제2]__\n",
    "\n",
    "\n",
    "변수 num1에 15, num2에 4를 할당하고, 두 변수를 더한 값, 뺀 값, 곱한 값, 나눈 값을 각각 출력하세요.\n",
    "\n",
    "\n",
    "\n",
    "<br>"
   ]
  },
  {
   "cell_type": "code",
   "execution_count": 8,
   "metadata": {},
   "outputs": [
    {
     "name": "stdout",
     "output_type": "stream",
     "text": [
      "더한값: 19\n",
      "뺀값: 11\n",
      "곱한값: 60\n",
      "나눈값: 3.75\n"
     ]
    }
   ],
   "source": [
    "num1 = 15\n",
    "num2 =4\n",
    "\n",
    "print(\"더한값:\",num1 + num2)\n",
    "print(\"뺀값:\" , num1 - num2)\n",
    "print(\"곱한값:\", num1 * num2)\n",
    "print(\"나눈값:\", num1 / num2)"
   ]
  },
  {
   "cell_type": "markdown",
   "metadata": {
    "id": "rAD_O3Gmc_43"
   },
   "source": [
    "<br>\n",
    "\n",
    "__[문제3]__\n",
    "\n",
    "변수 x에 5를 할당하고, 변수 y에 3을 할당한 후, x가 y보다 크거나 같은지 비교해서 bool타입으로 출력해주세요."
   ]
  },
  {
   "cell_type": "code",
   "execution_count": 9,
   "metadata": {
    "id": "74wtVQFFc_h1"
   },
   "outputs": [
    {
     "name": "stdout",
     "output_type": "stream",
     "text": [
      "True\n"
     ]
    }
   ],
   "source": [
    "x= 5\n",
    "y= 3\n",
    "\n",
    "print(x >= y)"
   ]
  },
  {
   "cell_type": "markdown",
   "metadata": {
    "id": "3uK_auXYdgk2"
   },
   "source": [
    "<br>__[문제4]__\n",
    "\n",
    "자료형 (int, float, str, bool) 변수를 만들어보고, print()해서 결과를 확인하세요!\n"
   ]
  },
  {
   "cell_type": "code",
   "execution_count": 13,
   "metadata": {
    "id": "9kvBxa6PdhgA"
   },
   "outputs": [
    {
     "name": "stdout",
     "output_type": "stream",
     "text": [
      "정수: 35\n",
      "실수: 2.55\n",
      "문자열:  아직 까지는 괜찮다!\n",
      "블리언: True\n"
     ]
    }
   ],
   "source": [
    "integer_var = 35\n",
    "float_var = 2.55\n",
    "string_var = \" 아직 까지는 괜찮다!\"\n",
    "boolean_var = True\n",
    "\n",
    "print(\"정수:\", integer_var)\n",
    "print(\"실수:\", float_var)\n",
    "print (\"문자열:\", string_var)\n",
    "print (\"블리언:\", boolean_var)"
   ]
  },
  {
   "cell_type": "markdown",
   "metadata": {
    "id": "2Jte2VLKdiPm"
   },
   "source": [
    "__[문제5]__\n",
    "\n",
    "str = \"야호야호야호호야호야야오햐오햐오햐오\"\n",
    "\n",
    "str을 3가지 이상의 다른 문자열 슬라이싱을 이용하여 확인해보세요!\n",
    "\n",
    "출력 예)\n",
    "\n",
    "처음 5글자: 야호야호야\n"
   ]
  },
  {
   "cell_type": "code",
   "execution_count": 19,
   "metadata": {},
   "outputs": [
    {
     "name": "stdout",
     "output_type": "stream",
     "text": [
      "뒤에서 5글자: 오햐오햐오\n",
      "2칸씩 건너뛰기: 야야야호호야햐햐햐\n",
      "중간 7글자: 호야호호야호야\n"
     ]
    }
   ],
   "source": [
    "str = \"야호야호야호호야호야야오햐오햐오햐오\"\n",
    "\n",
    "print(\"뒤에서 5글자:\", str[-5:])\n",
    "print(\"2칸씩 건너뛰기:\", str[::2])\n",
    "print(\"중간 7글자:\", str[3:10])\n"
   ]
  },
  {
   "cell_type": "markdown",
   "metadata": {},
   "source": [
    "__[문제6]__\n",
    "\n",
    "변수명 게임에 들어 있는 값 중 '홀'만 출력되도록 코드를 작성해 주세요\n",
    "\n",
    "game = \"홀짝홀짝홀짝\"\n",
    "\n",
    "출력 예시 : \"홀홀홀\"\n",
    "\n",
    "<br>\n",
    "\n",
    "__Tips__\n",
    "- 문자열 슬라이싱을 이용해보세요 !\n"
   ]
  },
  {
   "cell_type": "code",
   "execution_count": 26,
   "metadata": {},
   "outputs": [
    {
     "name": "stdout",
     "output_type": "stream",
     "text": [
      "홀홀홀\n"
     ]
    }
   ],
   "source": [
    "game=\"홀짝홀짝홀짝\"\n",
    "\n",
    "print(game[::2])"
   ]
  },
  {
   "cell_type": "markdown",
   "metadata": {},
   "source": [
    "__[문제7]__\n",
    "\n",
    "변수명 전화번호에 들어 있는 번호를 모두 붙여서 출력되도록 코드를 작성해주세요.\n",
    "\n",
    "<br>\n",
    "\n",
    "phone = \"010-1234-5678\"\n",
    "\n",
    "출력 예시 : \"01012345678\"\n",
    "\n",
    "<br>\n",
    "\n",
    "__Tips__\n",
    "- split() 함수는 문자열을 특정 구분자를 기준으로 나누어 리스트로 반환합니다.\n"
   ]
  },
  {
   "cell_type": "code",
   "execution_count": 27,
   "metadata": {},
   "outputs": [
    {
     "name": "stdout",
     "output_type": "stream",
     "text": [
      "01012345678\n"
     ]
    }
   ],
   "source": [
    "phone = \"010-1234-5678\"\n",
    "print(''.join(phone.split('-')))"
   ]
  }
 ],
 "metadata": {
  "colab": {
   "authorship_tag": "ABX9TyM3gebHvdgzn1rFsPHWTyo9",
   "provenance": []
  },
  "kernelspec": {
   "display_name": "Python 3",
   "name": "python3"
  },
  "language_info": {
   "codemirror_mode": {
    "name": "ipython",
    "version": 3
   },
   "file_extension": ".py",
   "mimetype": "text/x-python",
   "name": "python",
   "nbconvert_exporter": "python",
   "pygments_lexer": "ipython3",
   "version": "3.13.3"
  }
 },
 "nbformat": 4,
 "nbformat_minor": 0
}
