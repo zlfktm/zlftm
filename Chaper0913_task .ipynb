{
 "cells": [
  {
   "cell_type": "markdown",
   "metadata": {
    "id": "fD4Qab2qYgOm"
   },
   "source": [
    "안녕하세요. 수강생 여러분~! Chapter09 ~ 13 수업은 잘 들으셨나요?\n",
    "\n",
    "Chapter09 ~ 13의 수업 내용을 바탕으로 아래 문제를 풀어주시면 됩니다.\n",
    "\n",
    "\n",
    "<br>\n",
    "\n",
    "\n",
    "[**답변 입력 방법**]\n",
    "\n",
    "문제 아래에 있는 코드 입력창에 정답코드를 작성하신 후  __▷ 버튼을 클릭해 코드를 실행__ 해보세요<br>"
   ]
  },
  {
   "cell_type": "markdown",
   "metadata": {
    "id": "3MVoZxpuUTx6"
   },
   "source": [
    "---"
   ]
  },
  {
   "cell_type": "markdown",
   "metadata": {
    "id": "c46vpYvVUTx6"
   },
   "source": [
    "__[문제0]__\n",
    "\n",
    "\n",
    "오즈 코딩 스쿨 백엔드 8기 과정에 참여한 수강생 중 3명의 수강생이 자율적으로 스터디 그룹을 결성했습니다.\n",
    "\n",
    "스터디 그룹 내에는 한 주간 배운 내용으로 매주 쪽지 시험을 보는 룰이 있습니다. 점수는 채점자 마음입니다.\n",
    "\n",
    "쪽지 시험의 점수를 직접 입력받고, 점수의 합을 출력해주세요!\n",
    "\n",
    "\n",
    "<br>\n",
    "\n"
   ]
  },
  {
   "cell_type": "code",
   "execution_count": 1,
   "metadata": {
    "colab": {
     "base_uri": "https://localhost:8080/"
    },
    "executionInfo": {
     "elapsed": 5980,
     "status": "ok",
     "timestamp": 1748594104660,
     "user": {
      "displayName": "강산해",
      "userId": "07957047466999490908"
     },
     "user_tz": -540
    },
    "id": "WINcFnx1UTx6",
    "outputId": "7db332a3-6c1d-4d08-9d0e-e40f5092f9b4"
   },
   "outputs": [
    {
     "name": "stdout",
     "output_type": "stream",
     "text": [
      "1번 점수: 20\n",
      "2번 점수: 30\n",
      "2번 점수: 40\n",
      "점수 합계: 90\n"
     ]
    }
   ],
   "source": [
    "a = int(input(\"1번 점수: \"))\n",
    "b = int(input(\"2번 점수: \"))\n",
    "c = int(input(\"2번 점수: \"))\n",
    "print(\"점수 합계:\", a + b + c)"
   ]
  },
  {
   "cell_type": "markdown",
   "metadata": {
    "id": "swqdcIl8Yn-c"
   },
   "source": [
    "__[문제1]<br>__\n",
    "\n",
    "movie_rank 리스트에는 아래와 같이 네 개의 영화 제목이 바인딩되어 있다.\n",
    "\n",
    "\"비밀\"을 \"나폴레옹\"과 \"괴물\" 사이에 추가해주세요\n",
    "\n",
    "<br>\n",
    "\n",
    "```\n",
    "movie = ['서울의 봄', '나폴레옹', '괴물', '베트맨']\n",
    "```\n",
    "\n"
   ]
  },
  {
   "cell_type": "code",
   "execution_count": 3,
   "metadata": {
    "colab": {
     "base_uri": "https://localhost:8080/"
    },
    "executionInfo": {
     "elapsed": 4,
     "status": "ok",
     "timestamp": 1748594445231,
     "user": {
      "displayName": "강산해",
      "userId": "07957047466999490908"
     },
     "user_tz": -540
    },
    "id": "vjUhNFdBYo2n",
    "outputId": "5e204766-640c-4cde-d397-1ce3e8e8a0b1"
   },
   "outputs": [
    {
     "name": "stdout",
     "output_type": "stream",
     "text": [
      "['서울의 봄', '나폴레옹', '비밀', '괴물', '베트맨']\n"
     ]
    }
   ],
   "source": [
    "movie = ['서울의 봄', '나폴레옹', '괴물', '베트맨']\n",
    "\n",
    "movie.insert(2, '비밀')\n",
    "\n",
    "print(movie)"
   ]
  },
  {
   "cell_type": "markdown",
   "metadata": {
    "id": "13nSacyBUTx7"
   },
   "source": [
    "---"
   ]
  },
  {
   "cell_type": "markdown",
   "metadata": {
    "id": "KZBNuM5MYpZR"
   },
   "source": [
    "__[문제1-2]<br>__\n",
    "\n",
    "movie_rank 리스트에서 '베트맨'를 삭제해주세요\n",
    "\n",
    "<br>\n",
    "\n",
    "```\n",
    "movie = ['서울의 봄', '나폴레옹', '비밀', '괴물', '베트맨']\n",
    "```\n",
    "\n"
   ]
  },
  {
   "cell_type": "code",
   "execution_count": 4,
   "metadata": {
    "colab": {
     "base_uri": "https://localhost:8080/"
    },
    "executionInfo": {
     "elapsed": 4,
     "status": "ok",
     "timestamp": 1748594506196,
     "user": {
      "displayName": "강산해",
      "userId": "07957047466999490908"
     },
     "user_tz": -540
    },
    "id": "cPezrT7cYreh",
    "outputId": "3798a2bc-eba4-4cbd-b615-f4b4d506b90a"
   },
   "outputs": [
    {
     "name": "stdout",
     "output_type": "stream",
     "text": [
      "['서울의 봄', '나폴레옹', '비밀', '괴물']\n"
     ]
    }
   ],
   "source": [
    "movie_rank = ['서울의 봄', '나폴레옹', '비밀', '괴물', '베트맨']\n",
    "movie_rank.remove('베트맨')\n",
    "print(movie_rank)"
   ]
  },
  {
   "cell_type": "markdown",
   "metadata": {
    "id": "i8EJYPY0YsAe"
   },
   "source": [
    "__[문제2]<br>__\n",
    "\n",
    "[언어1]과 [언어2] 리스트가 있을 때 언어1과 언어2의 원소를 모두 갖고 있는 [언어모음]이라는 list를 만들어주세요\n",
    "\n",
    "```lang1 = [\"C\", \"C++\", \"JAVA\"]```<br>\n",
    "```lang2 = [\"Python\", \"Go\", \"C#\"]```  \n",
    "\n",
    "<br>\n",
    "실행 예)\n",
    "언어들\n",
    "['C', 'C++', 'JAVA', 'Python', 'Go', 'C#']"
   ]
  },
  {
   "cell_type": "code",
   "execution_count": 5,
   "metadata": {
    "colab": {
     "base_uri": "https://localhost:8080/"
    },
    "executionInfo": {
     "elapsed": 42,
     "status": "ok",
     "timestamp": 1748594549817,
     "user": {
      "displayName": "강산해",
      "userId": "07957047466999490908"
     },
     "user_tz": -540
    },
    "id": "fH0QqCmPUTx7",
    "outputId": "4f4f6924-b5e2-4777-a0eb-c1183d089b36"
   },
   "outputs": [
    {
     "name": "stdout",
     "output_type": "stream",
     "text": [
      "언어들 ['C', 'C++', 'JAVA', 'Python', 'Go', 'C#']\n"
     ]
    }
   ],
   "source": [
    "lang1 = [\"C\", \"C++\", \"JAVA\"]\n",
    "lang2 = [\"Python\", \"Go\", \"C#\"]\n",
    "\n",
    "languages = lang1 + lang2\n",
    "\n",
    "print(\"언어들\", languages)"
   ]
  },
  {
   "cell_type": "markdown",
   "metadata": {
    "id": "YfGXr3xQUTx7"
   },
   "source": [
    "---"
   ]
  },
  {
   "cell_type": "markdown",
   "metadata": {
    "id": "5VFysaYRwT69"
   },
   "source": [
    "__[문제3]<br>__\n",
    "\n",
    "다음 리스트에서 최댓값과 최솟값, 그리고 평균을 출력해주세요.\n",
    "<br>\n",
    "\n",
    "```\n",
    "nums = [1, 2, 3, 4, 5, 6, 7, 9, 10]\n",
    "```\n",
    "\n"
   ]
  },
  {
   "cell_type": "code",
   "execution_count": 10,
   "metadata": {
    "colab": {
     "base_uri": "https://localhost:8080/"
    },
    "executionInfo": {
     "elapsed": 6050,
     "status": "ok",
     "timestamp": 1748595543360,
     "user": {
      "displayName": "강산해",
      "userId": "07957047466999490908"
     },
     "user_tz": -540
    },
    "id": "ULpv0wM4UTx8",
    "outputId": "eb16c55c-9bca-4816-dda0-add3703069d2"
   },
   "outputs": [
    {
     "name": "stdout",
     "output_type": "stream",
     "text": [
      "숫자들을 띄어쓰기 기준으로 입력하세요: 1 2 3 4 5 6 7 9 10\n",
      "=== 결과 ===\n",
      "고유 숫자들: {1, 2, 3, 4, 5, 6, 7, 9, 10}\n",
      "최대값: 10\n",
      "최솟값: 1\n",
      "평균: 5.222222222222222\n"
     ]
    }
   ],
   "source": [
    "# 입력 받기 (tuple로 변환)\n",
    "num = input(\"숫자들을 띄어쓰기 기준으로 입력하세요: \").split()\n",
    "num = tuple(map(int, num))  # 문자열 리스트 -> 정수 튜플\n",
    "\n",
    "# list로 변환 (리스트 관련 기능 사용 가능)\n",
    "num_list = list(num)\n",
    "\n",
    "# dict로 결과 저장\n",
    "result = {\n",
    "    \"최대값\": max(num_list),\n",
    "    \"최솟값\": min(num_list),\n",
    "    \"평균\": sum(num_list) / len(num_list)\n",
    "}\n",
    "\n",
    "# set 사용 예시: 중복 제거 (이 문제엔 중복이 없지만 예시로 넣음)\n",
    "unique_nums = set(num_list)\n",
    "\n",
    "# 출력\n",
    "print(\"=== 결과 ===\")\n",
    "print(\"고유 숫자들:\", unique_nums)\n",
    "print(\"최대값:\", result[\"최대값\"])\n",
    "print(\"최솟값:\", result[\"최솟값\"])\n",
    "print(\"평균:\", result[\"평균\"])"
   ]
  },
  {
   "cell_type": "markdown",
   "metadata": {
    "id": "_F3EXNZiUTx8"
   },
   "source": [
    "---"
   ]
  },
  {
   "cell_type": "markdown",
   "metadata": {
    "id": "5_IA50IQE2AM"
   },
   "source": [
    "__[문제4]__\n",
    "\n",
    "다음 리스트에 저장된 데이터의 개수를 화면에 구해주세요\n",
    "\n",
    "```cook = [\"피자\", \"김밥\", \"만두\", \"양념치킨\", \"족발\", \"피자\", \"김치만두\", \"쫄면\"]```"
   ]
  },
  {
   "cell_type": "code",
   "execution_count": 12,
   "metadata": {
    "colab": {
     "base_uri": "https://localhost:8080/"
    },
    "executionInfo": {
     "elapsed": 47,
     "status": "ok",
     "timestamp": 1748595630985,
     "user": {
      "displayName": "강산해",
      "userId": "07957047466999490908"
     },
     "user_tz": -540
    },
    "id": "iRDvWnF8wTXa",
    "outputId": "20ed3890-884f-41d9-b19c-78abbb3d8112"
   },
   "outputs": [
    {
     "name": "stdout",
     "output_type": "stream",
     "text": [
      "총 음식 개수: 8\n"
     ]
    }
   ],
   "source": [
    "cook = [\"피자\", \"김밥\", \"만두\", \"양념치킨\", \"족발\", \"피자\", \"김치만두\", \"쫄면\"]\n",
    "print(\"총 음식 개수:\", len(cook))"
   ]
  },
  {
   "cell_type": "markdown",
   "metadata": {
    "id": "ObIvGJBhUTx8"
   },
   "source": [
    "---"
   ]
  },
  {
   "cell_type": "markdown",
   "metadata": {
    "id": "Q0BTkFf3UTx8"
   },
   "source": [
    "---"
   ]
  },
  {
   "cell_type": "markdown",
   "metadata": {
    "id": "Cp7IpuJBFcq2"
   },
   "source": [
    "__[문제5]__\n",
    "\n",
    "price 변수에는 날짜와 종가 정보가 저장돼 있습니다.\n",
    "날짜 정보를 제외하고 가격 정보만을 출력해주세요\n",
    "\n",
    "```price = ['20180728', 100, 130, 140, 150, 160, 170]```\n",
    "\n",
    "<br>\n",
    "출력 예) [100, 130, 140, 150, 160, 170]"
   ]
  },
  {
   "cell_type": "code",
   "execution_count": 13,
   "metadata": {
    "colab": {
     "base_uri": "https://localhost:8080/"
    },
    "executionInfo": {
     "elapsed": 42,
     "status": "ok",
     "timestamp": 1748595691832,
     "user": {
      "displayName": "강산해",
      "userId": "07957047466999490908"
     },
     "user_tz": -540
    },
    "id": "BpMb0bHPFdKF",
    "outputId": "dd960864-df6d-41db-bb53-db8d84e1488f"
   },
   "outputs": [
    {
     "name": "stdout",
     "output_type": "stream",
     "text": [
      "[100, 130, 140, 150, 160, 170]\n"
     ]
    }
   ],
   "source": [
    "price = ['20180728', 100, 130, 140, 150, 160, 170]\n",
    "\n",
    "prices_only = price[1:]\n",
    "\n",
    "print(prices_only)"
   ]
  },
  {
   "cell_type": "markdown",
   "metadata": {
    "id": "YDBjN_TeUTx8"
   },
   "source": [
    "---"
   ]
  },
  {
   "cell_type": "markdown",
   "metadata": {
    "id": "1DwclZivGe72"
   },
   "source": [
    "__[문제6]__\n",
    "\n",
    "<br>\n",
    "다음 딕셔너리를 사용하여 메로나 가격을 출력해주세요\n",
    "\n",
    "```ice = {'메로나': 1000,```<br>\n",
    "&emsp;&emsp;&emsp;&emsp;```'폴로포': 1200,```<br>\n",
    "&emsp;&emsp;&emsp;&emsp;```'빵빠레': 1800,```<br>\n",
    "&emsp;&emsp;&emsp;&emsp;```'죠스바': 1200,```<br>\n",
    "&emsp;&emsp;&emsp;&emsp;```'월드콘': 1500}```<br>\n",
    "\n",
    "<br>\n",
    "출력 예) 메로나 가격: 1000"
   ]
  },
  {
   "cell_type": "code",
   "execution_count": null,
   "metadata": {
    "id": "jADTPFzOHcKk"
   },
   "outputs": [],
   "source": []
  },
  {
   "cell_type": "markdown",
   "metadata": {
    "id": "LvcpexqPUTx8"
   },
   "source": [
    "---"
   ]
  },
  {
   "cell_type": "markdown",
   "metadata": {
    "id": "mBs2AaqcJAXN"
   },
   "source": [
    "__[문제6-1]__\n",
    "\n",
    "다음 딕셔너리에서 메로나의 가격을 1300으로 수정해주세요\n",
    "\n",
    "```ice = {'메로나': 1000,```<br>\n",
    "&emsp;&emsp;&emsp;&emsp;```'폴로포': 1200,```<br>\n",
    "&emsp;&emsp;&emsp;&emsp;```'빵빠레': 1800,```<br>\n",
    "&emsp;&emsp;&emsp;&emsp;```'죠스바': 1200,```<br>\n",
    "&emsp;&emsp;&emsp;&emsp;```'월드콘': 1500}```<br>"
   ]
  },
  {
   "cell_type": "code",
   "execution_count": 14,
   "metadata": {
    "colab": {
     "base_uri": "https://localhost:8080/"
    },
    "executionInfo": {
     "elapsed": 9,
     "status": "ok",
     "timestamp": 1748595985088,
     "user": {
      "displayName": "강산해",
      "userId": "07957047466999490908"
     },
     "user_tz": -540
    },
    "id": "C2RyUgoTJKsF",
    "outputId": "1314c640-545c-4fc8-8cd9-9dd195c37a3d"
   },
   "outputs": [
    {
     "name": "stdout",
     "output_type": "stream",
     "text": [
      "{'메로나': 1300, '플로포': 1200, '빵빠레': 1800, '죠스바': 1200, '월드콘': 1000}\n"
     ]
    }
   ],
   "source": [
    "ice = {'메로나': 1000,\n",
    "       '플로포': 1200,\n",
    "       '빵빠레': 1800,\n",
    "       '죠스바': 1200,\n",
    "       '월드콘': 1000\n",
    "}\n",
    "\n",
    "ice['메로나'] = 1300\n",
    "\n",
    "print(ice)\n"
   ]
  },
  {
   "cell_type": "markdown",
   "metadata": {
    "id": "bRe-7QlgUTx8"
   },
   "source": [
    "---"
   ]
  },
  {
   "cell_type": "markdown",
   "metadata": {
    "id": "_ZdcVEtTJKS1"
   },
   "source": [
    "__[문제7]__\n",
    "\n",
    "아래 순서대로 주어진 수강생 이름과 등급을 하나의 딕셔너리로 만드는 코드를 작성해주세요\n",
    "\n",
    "\n",
    "names : 나이썬, 김자바, 김씨, 박씨샵  \n",
    "grades :   B       B      A      C\n"
   ]
  },
  {
   "cell_type": "code",
   "execution_count": 16,
   "metadata": {
    "colab": {
     "base_uri": "https://localhost:8080/"
    },
    "executionInfo": {
     "elapsed": 42,
     "status": "ok",
     "timestamp": 1748596114424,
     "user": {
      "displayName": "강산해",
      "userId": "07957047466999490908"
     },
     "user_tz": -540
    },
    "id": "7RyqlYwpJOp7",
    "outputId": "4df3b6e3-0a88-4a54-ecab-fe78b814a14f"
   },
   "outputs": [
    {
     "name": "stdout",
     "output_type": "stream",
     "text": [
      "{'나이썬': 'B', '김자바': 'B', '김씨': 'A', '박씨샵': 'C'}\n"
     ]
    }
   ],
   "source": [
    "names = ['나이썬','김자바','김씨','박씨샵']\n",
    "grades = ['B','B','A','C']\n",
    "\n",
    "student_dict = dict(zip(names, grades))\n",
    "\n",
    "print(student_dict)"
   ]
  },
  {
   "cell_type": "markdown",
   "metadata": {
    "id": "YXilVWwoUTx8"
   },
   "source": [
    "---"
   ]
  },
  {
   "cell_type": "markdown",
   "metadata": {
    "id": "yzi6f2-YKsk4"
   },
   "source": [
    "__[문제8]__\n",
    "\n",
    "아래 ice 딕셔너리에 데이터를 추가 후 출력해주세요\n",
    "\n",
    "ice = {\"메로나\": [300, 20],  \n",
    "              \"비비빅\": [400, 3],  \n",
    "              \"죠스바\": [250, 100]}  \n",
    "\n",
    "\n",
    "추가해야하는 데이터) 이름 : 보석바, 가격:650, 재고:10"
   ]
  },
  {
   "cell_type": "code",
   "execution_count": 17,
   "metadata": {
    "colab": {
     "base_uri": "https://localhost:8080/"
    },
    "executionInfo": {
     "elapsed": 8,
     "status": "ok",
     "timestamp": 1748596150343,
     "user": {
      "displayName": "강산해",
      "userId": "07957047466999490908"
     },
     "user_tz": -540
    },
    "id": "8lK2lXr4UTx8",
    "outputId": "416689ed-5ed5-4d92-d0cb-98150fdcf028"
   },
   "outputs": [
    {
     "name": "stdout",
     "output_type": "stream",
     "text": [
      "{'메로나': [300, 20], '비비빅': [400, 3], '죠스바': [250, 100], '보석바': [650, 10]}\n"
     ]
    }
   ],
   "source": [
    "ice = {\n",
    "    \"메로나\": [300, 20],\n",
    "    \"비비빅\": [400, 3],\n",
    "    \"죠스바\": [250, 100]\n",
    "}\n",
    "ice[\"보석바\"] = [650, 10]\n",
    "\n",
    "print(ice)\n"
   ]
  },
  {
   "cell_type": "markdown",
   "metadata": {
    "id": "8PG4qIAfUTx8"
   },
   "source": [
    "---"
   ]
  },
  {
   "cell_type": "markdown",
   "metadata": {
    "id": "RQJC80PBLWGt"
   },
   "source": [
    "__[문제9]__\n",
    "\n",
    "아래 딕셔너리에서 key만 list 형태로 출력해주세요\n",
    "\n",
    "ice = {'메로나': 1000, '폴로포': 1200, '빵빠레': 1800, '죠스바': 1200, '월드콘': 1500}\n"
   ]
  },
  {
   "cell_type": "code",
   "execution_count": 21,
   "metadata": {
    "colab": {
     "base_uri": "https://localhost:8080/"
    },
    "executionInfo": {
     "elapsed": 7,
     "status": "ok",
     "timestamp": 1748596351109,
     "user": {
      "displayName": "강산해",
      "userId": "07957047466999490908"
     },
     "user_tz": -540
    },
    "id": "m5m-a09iLVbO",
    "outputId": "8053f943-01f3-49c6-a255-f0fd1ec70e89"
   },
   "outputs": [
    {
     "name": "stdout",
     "output_type": "stream",
     "text": [
      "['메로나', '폴로포', '빵빠레', '죠스바', '월드콘']\n"
     ]
    }
   ],
   "source": [
    "ice = {'메로나': 1000,\n",
    "       '폴로포': 1200,\n",
    "       '빵빠레': 1800,\n",
    "       '죠스바': 1200,\n",
    "       '월드콘': 1500\n",
    "}\n",
    "\n",
    "ice_keys = list(ice.keys())\n",
    "\n",
    "print(ice_keys)\n"
   ]
  }
 ],
 "metadata": {
  "colab": {
   "provenance": []
  },
  "kernelspec": {
   "display_name": "Python 3",
   "name": "python3"
  },
  "language_info": {
   "name": "python"
  }
 },
 "nbformat": 4,
 "nbformat_minor": 0
}
